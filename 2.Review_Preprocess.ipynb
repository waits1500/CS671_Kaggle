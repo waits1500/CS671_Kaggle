{
 "cells": [
  {
   "cell_type": "code",
   "execution_count": 1,
   "metadata": {},
   "outputs": [],
   "source": [
    "import numpy as np\n",
    "import matplotlib.pyplot as plt\n",
    "import pandas as pd\n",
    "\n",
    "#from openai import OpenAI\n",
    "from nltk.sentiment import SentimentIntensityAnalyzer\n",
    "\n",
    "# Download the Vader lexicon (run this once)\n",
    "#nltk.download('vader_lexicon')"
   ]
  },
  {
   "cell_type": "code",
   "execution_count": null,
   "metadata": {},
   "outputs": [],
   "source": [
    "# client = OpenAI(\n",
    "#     api_key=\n",
    "# )\n",
    "\n",
    "# def classify_sentiment(comment):\n",
    "#     prompt = f\"Classify the following Airbnb review comment as positive or negative: \\\"{comment}\\\"\"\n",
    "#     response = client.chat.completions.create(\n",
    "#         messages=[\n",
    "#             {\"role\": \"system\", \"content\": \"You are a helpful assistant for sentiment analysis.\"},\n",
    "#             {\"role\": \"user\", \"content\": prompt}\n",
    "#         ],\n",
    "#         max_tokens=10,\n",
    "#         temperature=0.5\n",
    "#     )\n",
    "#     sentiment = response['choices'][0]['message']['content'].strip().lower()\n",
    "#     return sentiment"
   ]
  },
  {
   "cell_type": "code",
   "execution_count": 3,
   "metadata": {},
   "outputs": [],
   "source": [
    "# Initialize the sentiment analyzer once\n",
    "sia = SentimentIntensityAnalyzer()\n",
    "def compute_positive_review_ratio(df):\n",
    "    # Prepare the reviews data\n",
    "    review_data = df['reviews'].fillna('').str.lower()\n",
    "\n",
    "    positive_ratio = []\n",
    "    for review in review_data:\n",
    "        pros, cons, neutral = 0, 0, 0\n",
    "        if review:\n",
    "            # Split the review into individual comments\n",
    "            comments = review.split(\"\\n---------------------------------\\n\")\n",
    "            for comment in comments:\n",
    "                # Analyze the sentiment of each comment\n",
    "                sentiment_score = sia.polarity_scores(comment)['compound']\n",
    "                if sentiment_score >= 0.3:\n",
    "                    pros += 1\n",
    "                elif sentiment_score <= -0.3:\n",
    "                    cons += 1\n",
    "                else:\n",
    "                    neutral += 1\n",
    "        total = pros + cons + neutral\n",
    "        # Calculate the positive review ratio\n",
    "        ratio = pros / total if total > 0 else 0.5\n",
    "        positive_ratio.append(ratio)\n",
    "\n",
    "    # Create a new DataFrame with the positive review ratio\n",
    "    positive_ratio_df = pd.DataFrame({'positive_review_ratio': positive_ratio})\n",
    "\n",
    "    return positive_ratio_df"
   ]
  },
  {
   "cell_type": "code",
   "execution_count": 4,
   "metadata": {},
   "outputs": [],
   "source": [
    "# Importing the dataset\n",
    "train_data = pd.read_csv('./Data/train.csv')\n",
    "test_data = pd.read_csv('./Data/test.csv')\n",
    "\n",
    "# Compute the sentiment ratio\n",
    "train_positive_ratio = compute_positive_review_ratio(train_data)\n",
    "test_positive_ratio = compute_positive_review_ratio(test_data)"
   ]
  },
  {
   "cell_type": "code",
   "execution_count": 7,
   "metadata": {},
   "outputs": [
    {
     "data": {
      "image/png": "[encoded data removed]",
      "text/plain": [
       "<Figure size 1000x500 with 1 Axes>"
      ]
     },
     "metadata": {},
     "output_type": "display_data"
    }
   ],
   "source": [
    "plt.figure(figsize=(10, 5))\n",
    "plt.hist(train_positive_ratio, bins=20)\n",
    "plt.hist(test_positive_ratio, bins=20)\n",
    "plt.xlabel('Positive Review Ratio')\n",
    "plt.ylabel('Number of Listings')\n",
    "plt.legend(['Train', 'Test'])\n",
    "plt.grid()\n",
    "plt.show()"
   ]
  },
  {
   "cell_type": "code",
   "execution_count": 6,
   "metadata": {},
   "outputs": [],
   "source": [
    "# output the data\n",
    "# train_positive_ratio.to_csv('./Data_Preprocess/train_positive_ratio.csv', index=False)\n",
    "# test_positive_ratio.to_csv('./Data_Preprocess/test_positive_ratio.csv', index=False)"
   ]
  }
 ],
 "metadata": {
  "kernelspec": {
   "display_name": "CS671",
   "language": "python",
   "name": "python3"
  },
  "language_info": {
   "codemirror_mode": {
    "name": "ipython",
    "version": 3
   },
   "file_extension": ".py",
   "mimetype": "text/x-python",
   "name": "python",
   "nbconvert_exporter": "python",
   "pygments_lexer": "ipython3",
   "version": "3.9.20"
  }
 },
 "nbformat": 4,
 "nbformat_minor": 2
}
